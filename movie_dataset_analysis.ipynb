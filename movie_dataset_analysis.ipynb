{
  "nbformat": 4,
  "nbformat_minor": 0,
  "metadata": {
    "colab": {
      "provenance": []
    },
    "kernelspec": {
      "name": "python3",
      "display_name": "Python 3"
    },
    "language_info": {
      "name": "python"
    }
  },
  "cells": [
    {
      "cell_type": "code",
      "execution_count": 2,
      "metadata": {
        "colab": {
          "base_uri": "https://localhost:8080/"
        },
        "id": "deulty8g2ojI",
        "outputId": "62de57f7-567b-4482-c535-d29f1d9b163a"
      },
      "outputs": [
        {
          "output_type": "stream",
          "name": "stdout",
          "text": [
            "   movieId                               title  \\\n",
            "0        1                    Toy Story (1995)   \n",
            "1        2                      Jumanji (1995)   \n",
            "2        3             Grumpier Old Men (1995)   \n",
            "3        4            Waiting to Exhale (1995)   \n",
            "4        5  Father of the Bride Part II (1995)   \n",
            "\n",
            "                                        genres  \n",
            "0  Adventure|Animation|Children|Comedy|Fantasy  \n",
            "1                   Adventure|Children|Fantasy  \n",
            "2                               Comedy|Romance  \n",
            "3                         Comedy|Drama|Romance  \n",
            "4                                       Comedy  \n",
            "   userId  movieId  rating  timestamp\n",
            "0       1        1     4.0  964982703\n",
            "1       1        3     4.0  964981247\n",
            "2       1        6     4.0  964982224\n",
            "3       1       47     5.0  964983815\n",
            "4       1       50     5.0  964982931\n"
          ]
        }
      ],
      "source": [
        "import pandas as pd\n",
        "\n",
        "# 파일 경로 설정\n",
        "movies_file = \"movies.csv\"\n",
        "ratings_file = \"ratings.csv\"\n",
        "\n",
        "# 데이터 로드\n",
        "movies = pd.read_csv(movies_file)\n",
        "ratings = pd.read_csv(ratings_file)\n",
        "\n",
        "data = pd.merge(ratings, movies, on=\"movieId\")\n",
        "\n",
        "# 데이터 확인\n",
        "print(movies.head())\n",
        "print(ratings.head())\n"
      ]
    },
    {
      "cell_type": "code",
      "source": [
        "import streamlit as st\n",
        "import pandas as pd\n",
        "import matplotlib.pyplot as plt\n",
        "\n",
        "# 데이터 로드\n",
        "movies_file = \"movies.csv\"\n",
        "ratings_file = \"ratings.csv\"\n",
        "\n",
        "movies = pd.read_csv(movies_file)\n",
        "ratings = pd.read_csv(ratings_file)\n",
        "data = pd.merge(ratings, movies, on=\"movieId\")\n",
        "\n",
        "# 앱 제목\n",
        "st.title(\"MovieLens Dashboard\")\n",
        "st.sidebar.title(\"Filters\")\n",
        "\n",
        "# 필터: 영화 장르 선택\n",
        "genres = data['genres'].str.get_dummies(sep='|').columns\n",
        "selected_genre = st.sidebar.selectbox(\"Select a Genre\", [\"All\"] + list(genres))\n",
        "\n",
        "# 필터 데이터 적용\n",
        "if selected_genre != \"All\":\n",
        "    data = data[data['genres'].str.contains(selected_genre, na=False)]\n",
        "\n",
        "# 데이터 통계\n",
        "st.header(\"Summary Statistics\")\n",
        "st.write(data.describe())\n",
        "\n",
        "# 영화별 평점 분포\n",
        "st.header(\"Ratings Distribution\")\n",
        "fig, ax = plt.subplots()\n",
        "data['rating'].hist(bins=10, ax=ax)\n",
        "ax.set_title(\"Ratings Distribution\")\n",
        "ax.set_xlabel(\"Rating\")\n",
        "ax.set_ylabel(\"Frequency\")\n",
        "st.pyplot(fig)\n",
        "\n",
        "# 가장 인기 있는 영화\n",
        "st.header(\"Top 10 Movies\")\n",
        "top_movies = (\n",
        "    data.groupby(\"title\")[\"rating\"]\n",
        "    .agg([\"mean\", \"count\"])\n",
        "    .rename(columns={\"mean\": \"Average Rating\", \"count\": \"Number of Ratings\"})\n",
        "    .sort_values(by=\"Number of Ratings\", ascending=False)\n",
        "    .head(10)\n",
        ")\n",
        "st.write(top_movies)\n"
      ],
      "metadata": {
        "colab": {
          "base_uri": "https://localhost:8080/",
          "height": 395
        },
        "id": "CRjTXCr88lTW",
        "outputId": "57b56291-8c95-475f-fc5f-557154a6bca7"
      },
      "execution_count": 3,
      "outputs": [
        {
          "output_type": "error",
          "ename": "ModuleNotFoundError",
          "evalue": "No module named 'streamlit'",
          "traceback": [
            "\u001b[0;31m---------------------------------------------------------------------------\u001b[0m",
            "\u001b[0;31mModuleNotFoundError\u001b[0m                       Traceback (most recent call last)",
            "\u001b[0;32m<ipython-input-3-173d2d6a7359>\u001b[0m in \u001b[0;36m<cell line: 1>\u001b[0;34m()\u001b[0m\n\u001b[0;32m----> 1\u001b[0;31m \u001b[0;32mimport\u001b[0m \u001b[0mstreamlit\u001b[0m \u001b[0;32mas\u001b[0m \u001b[0mst\u001b[0m\u001b[0;34m\u001b[0m\u001b[0;34m\u001b[0m\u001b[0m\n\u001b[0m\u001b[1;32m      2\u001b[0m \u001b[0;32mimport\u001b[0m \u001b[0mpandas\u001b[0m \u001b[0;32mas\u001b[0m \u001b[0mpd\u001b[0m\u001b[0;34m\u001b[0m\u001b[0;34m\u001b[0m\u001b[0m\n\u001b[1;32m      3\u001b[0m \u001b[0;32mimport\u001b[0m \u001b[0mmatplotlib\u001b[0m\u001b[0;34m.\u001b[0m\u001b[0mpyplot\u001b[0m \u001b[0;32mas\u001b[0m \u001b[0mplt\u001b[0m\u001b[0;34m\u001b[0m\u001b[0;34m\u001b[0m\u001b[0m\n\u001b[1;32m      4\u001b[0m \u001b[0;34m\u001b[0m\u001b[0m\n\u001b[1;32m      5\u001b[0m \u001b[0;31m# 데이터 로드\u001b[0m\u001b[0;34m\u001b[0m\u001b[0;34m\u001b[0m\u001b[0m\n",
            "\u001b[0;31mModuleNotFoundError\u001b[0m: No module named 'streamlit'",
            "",
            "\u001b[0;31m---------------------------------------------------------------------------\u001b[0;32m\nNOTE: If your import is failing due to a missing package, you can\nmanually install dependencies using either !pip or !apt.\n\nTo view examples of installing some common dependencies, click the\n\"Open Examples\" button below.\n\u001b[0;31m---------------------------------------------------------------------------\u001b[0m\n"
          ],
          "errorDetails": {
            "actions": [
              {
                "action": "open_url",
                "actionText": "Open Examples",
                "url": "/notebooks/snippets/importing_libraries.ipynb"
              }
            ]
          }
        }
      ]
    },
    {
      "cell_type": "code",
      "source": [
        "import matplotlib.pyplot as plt\n",
        "\n",
        "# 평점 분포 시각화\n",
        "ratings['rating'].hist(bins=10)\n",
        "plt.title('Ratings Distribution')\n",
        "plt.xlabel('Rating')\n",
        "plt.ylabel('Frequency')\n",
        "plt.show()\n"
      ],
      "metadata": {
        "colab": {
          "base_uri": "https://localhost:8080/",
          "height": 472
        },
        "id": "HMmd0OGa3GRf",
        "outputId": "aee05d6b-5fa0-436a-cb56-16a6001f1f6e"
      },
      "execution_count": null,
      "outputs": [
        {
          "output_type": "display_data",
          "data": {
            "text/plain": [
              "<Figure size 640x480 with 1 Axes>"
            ],
            "image/png": "[encoded data removed]"
          },
          "metadata": {}
        }
      ]
    },
    {
      "cell_type": "code",
      "source": [
        "# 영화별 평균 평점 및 평점 수 계산\n",
        "movie_ratings = ratings.groupby('movieId')['rating'].agg(['mean', 'count']).reset_index()\n",
        "movie_ratings.rename(columns={'mean': 'avg_rating', 'count': 'num_ratings'}, inplace=True)\n",
        "\n",
        "# 평균 평점이 높은 영화 확인\n",
        "top_movies = movie_ratings.sort_values(by='avg_rating', ascending=False).head(10)\n",
        "print(top_movies)\n"
      ],
      "metadata": {
        "colab": {
          "base_uri": "https://localhost:8080/"
        },
        "id": "ZYURDLHn3KCl",
        "outputId": "6d76c481-8871-4d66-df4e-0f196f874781"
      },
      "execution_count": null,
      "outputs": [
        {
          "output_type": "stream",
          "name": "stdout",
          "text": [
            "      movieId  avg_rating  num_ratings\n",
            "7638    88448         5.0            1\n",
            "8089   100556         5.0            1\n",
            "9065   143031         5.0            1\n",
            "9076   143511         5.0            1\n",
            "9078   143559         5.0            1\n",
            "4245     6201         5.0            1\n",
            "8136   102217         5.0            1\n",
            "8130   102084         5.0            1\n",
            "4240     6192         5.0            1\n",
            "9104   145994         5.0            1\n"
          ]
        }
      ]
    },
    {
      "cell_type": "code",
      "source": [
        "# 영화 정보와 평점 데이터 병합\n",
        "movie_details = pd.merge(movies, movie_ratings, on='movieId')\n",
        "print(movie_details.head())\n"
      ],
      "metadata": {
        "colab": {
          "base_uri": "https://localhost:8080/"
        },
        "id": "fE5a1EoR3L_4",
        "outputId": "82641c50-cc4b-4ce6-9d2e-f42392f0511a"
      },
      "execution_count": null,
      "outputs": [
        {
          "output_type": "stream",
          "name": "stdout",
          "text": [
            "   movieId                               title  \\\n",
            "0        1                    Toy Story (1995)   \n",
            "1        2                      Jumanji (1995)   \n",
            "2        3             Grumpier Old Men (1995)   \n",
            "3        4            Waiting to Exhale (1995)   \n",
            "4        5  Father of the Bride Part II (1995)   \n",
            "\n",
            "                                        genres  avg_rating  num_ratings  \n",
            "0  Adventure|Animation|Children|Comedy|Fantasy    3.920930          215  \n",
            "1                   Adventure|Children|Fantasy    3.431818          110  \n",
            "2                               Comedy|Romance    3.259615           52  \n",
            "3                         Comedy|Drama|Romance    2.357143            7  \n",
            "4                                       Comedy    3.071429           49  \n"
          ]
        }
      ]
    },
    {
      "cell_type": "code",
      "source": [
        "# 평점 수 기준 상위 영화 추천\n",
        "popular_movies = movie_details[movie_details['num_ratings'] > 50]\n",
        "popular_movies = popular_movies.sort_values(by='avg_rating', ascending=False)\n",
        "\n",
        "# 추천 영화 출력\n",
        "print(popular_movies[['title', 'avg_rating', 'num_ratings']].head(10))\n"
      ],
      "metadata": {
        "colab": {
          "base_uri": "https://localhost:8080/"
        },
        "id": "l9fRkOg13OAT",
        "outputId": "f9fd94e8-02d7-4253-b914-577dcf1cdd71"
      },
      "execution_count": null,
      "outputs": [
        {
          "output_type": "stream",
          "name": "stdout",
          "text": [
            "                                                  title  avg_rating  \\\n",
            "277                    Shawshank Redemption, The (1994)    4.429022   \n",
            "659                               Godfather, The (1972)    4.289062   \n",
            "2224                                  Fight Club (1999)    4.272936   \n",
            "974                               Cool Hand Luke (1967)    4.271930   \n",
            "602   Dr. Strangelove or: How I Learned to Stop Worr...    4.268041   \n",
            "686                                  Rear Window (1954)    4.261905   \n",
            "921                      Godfather: Part II, The (1974)    4.259690   \n",
            "6298                               Departed, The (2006)    4.252336   \n",
            "913                                   Goodfellas (1990)    4.250000   \n",
            "694                                   Casablanca (1942)    4.240000   \n",
            "\n",
            "      num_ratings  \n",
            "277           317  \n",
            "659           192  \n",
            "2224          218  \n",
            "974            57  \n",
            "602            97  \n",
            "686            84  \n",
            "921           129  \n",
            "6298          107  \n",
            "913           126  \n",
            "694           100  \n"
          ]
        }
      ]
    },
    {
      "cell_type": "code",
      "source": [
        "from sklearn.metrics.pairwise import cosine_similarity\n",
        "from scipy.sparse import csr_matrix\n",
        "\n",
        "# 사용자-영화 평점 매트릭스 생성\n",
        "user_movie_matrix = ratings.pivot(index='userId', columns='movieId', values='rating').fillna(0)\n",
        "\n",
        "# 코사인 유사도 계산\n",
        "similarity = cosine_similarity(user_movie_matrix)\n",
        "\n",
        "# 특정 사용자에게 유사한 사용자 추천\n",
        "similar_users = similarity[0].argsort()[-10:][::-1]\n",
        "print(f\"Similar users to user 0: {similar_users}\")\n"
      ],
      "metadata": {
        "colab": {
          "base_uri": "https://localhost:8080/"
        },
        "id": "LvmO_n4v3QG-",
        "outputId": "a260bcf5-5913-447f-91f5-cee77e0e533b"
      },
      "execution_count": null,
      "outputs": [
        {
          "output_type": "stream",
          "name": "stdout",
          "text": [
            "Similar users to user 0: [  0 265 312 367  56  90 468  38 287 451]\n"
          ]
        }
      ]
    }
  ]
}